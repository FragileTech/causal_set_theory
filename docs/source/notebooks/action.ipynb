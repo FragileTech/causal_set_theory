{
 "cells": [
  {
   "cell_type": "markdown",
   "id": "2c1f10f9-3bf6-4b14-a91f-0fa386ab5c72",
   "metadata": {},
   "source": [
    "\n",
    "This notebook provides a hands-on explanation of Section 4.5 from the review\n",
    "\"The causal set approach to quantum gravity\" by Sumati Surya. We will explore\n",
    "how to calculate spacetime curvature (gravity) directly from the structure of\n",
    "a causal set, leading to the famous Benincasa-Dowker action.\n",
    "\n"
   ]
  },
  {
   "cell_type": "code",
   "execution_count": 2,
   "id": "4c82ba96b5717be5",
   "metadata": {},
   "outputs": [],
   "source": [
    "# Import necessary libraries\n",
    "import numpy as np\n",
    "import matplotlib.pyplot as plt\n",
    "from matplotlib.collections import LineCollection\n",
    "\n",
    "# Set a style for the plots\n",
    "plt.style.use('seaborn-v0_8-whitegrid')\n"
   ]
  },
  {
   "cell_type": "markdown",
   "id": "97ecdc4e95207a53",
   "metadata": {},
   "source": [
    "### Introduction: Finding Gravity in the Dots\n",
    "\n",
    "In Einstein's General Relativity, gravity is not a force; it is the **curvature of spacetime**. The key mathematical object that describes this curvature at a point is the **Ricci Scalar, `R`**. The master equation for gravity, the Einstein-Hilbert action, is essentially the sum of `R` over all of spacetime.\n",
    "\n",
    "**The Challenge:** How can we possibly find a quantity like `R`, which describes smooth curvature, in a messy, random jumble of discrete dots?\n",
    "\n",
    "**The Solution:** We use a clever trick involving a discrete wave operator, `B`. By applying this operator to the most boring field imaginable (a field of all ones), the operator doesn't return zero as you'd expect. Instead, the non-zero result it spits out is directly proportional to the spacetime curvature `R`! This is the central insight of this section.\n"
   ]
  },
  {
   "cell_type": "markdown",
   "id": "9f52fb263684398d",
   "metadata": {},
   "source": [
    "### Step 1: Building the Tools (Recap from 4.4)\n",
    "\n",
    "To calculate curvature, we first need the tools to talk about \"neighbors\" in a causal set. The key idea is to classify every point in the past of a given element `e` based on how many other elements are \"in between\".\n",
    "\n",
    "#### Mathematical Foundation\n",
    "\n",
    "For a given element `e`, we define the set $L_k(e)$ as the set of all elements $e'$ in the past of $e$ such that the **causal interval** between them contains exactly `k` other elements.\n",
    "\n",
    "$$ L_k(e) = \\{ e' \\in C \\mid e' \\prec e \\text{ and } |I(e', e)| = k \\} $$\n",
    "\n",
    "*   $L_0(e)$ is the set of **links** to `e` (nearest neighbors).\n",
    "*   $L_1(e)$ is the set of **next-to-nearest neighbors**.\n",
    "*   ... and so on.\n",
    "\n",
    "We will need to count the number of elements in each of these sets. Let $N_k(e) = |L_k(e)|$.\n"
   ]
  },
  {
   "cell_type": "code",
   "execution_count": 3,
   "id": "c24bfc348dccf8af",
   "metadata": {},
   "outputs": [
    {
     "name": "stdout",
     "output_type": "stream",
     "text": [
      "Created a causal set with 50 elements.\n"
     ]
    }
   ],
   "source": [
    "# --- First, we need a causal set. We'll reuse our functions from before. ---\n",
    "\n",
    "def get_causal_matrix(coords):\n",
    "    \"\"\"Computes the causal matrix for a set of 2D coordinates.\"\"\"\n",
    "    N = coords.shape[0]\n",
    "    C = np.zeros((N, N), dtype=int)\n",
    "    t_coords = coords[:, 0].reshape(N, 1)\n",
    "    x_coords = coords[:, 1].reshape(N, 1)\n",
    "    dt = t_coords - t_coords.T\n",
    "    dx = x_coords - x_coords.T\n",
    "    ds2 = dx**2 - dt**2\n",
    "    causal_past_mask = (dt > 0) & (ds2 < 0)\n",
    "    C[causal_past_mask] = 1\n",
    "    return C\n",
    "\n",
    "# --- Create a Causal Set ---\n",
    "N_points = 100\n",
    "coords = (np.random.rand(N_points, 2) - 0.5) * 2\n",
    "diamond_coords = coords[np.sum(np.abs(coords), axis=1) < 1]\n",
    "C = get_causal_matrix(diamond_coords)\n",
    "N = diamond_coords.shape[0]\n",
    "\n",
    "print(f\"Created a causal set with {N} elements.\")\n"
   ]
  },
  {
   "cell_type": "code",
   "execution_count": 8,
   "id": "cce7e2c2d174133e",
   "metadata": {},
   "outputs": [
    {
     "name": "stdout",
     "output_type": "stream",
     "text": [
      "For element 44 (one of the latest points):\n",
      "  Number of nearest neighbors (links), N_0: 4\n",
      "  Number of next-nearest neighbors, N_1: 3\n",
      "  Number of N_2 neighbors: 4\n",
      "  Number of N_3 neighbors: 3\n"
     ]
    }
   ],
   "source": [
    "def get_interval_sizes(causal_matrix):\n",
    "    \"\"\"\n",
    "    For a causal matrix C, computes a new matrix where the entry (i, j)\n",
    "    is the number of elements in the interval between i and j.\n",
    "    \"\"\"\n",
    "    # The number of elements in the interval I(i, j) is the number of\n",
    "    # elements k such that j < k < i.\n",
    "    # This is equivalent to the number of paths of length 2 from j to i.\n",
    "    # C[i, k] = 1 means k < i\n",
    "    # C[k, j] = 1 means j < k\n",
    "    # So, (C @ C)[i, j] = sum_k(C[i, k] * C[k, j]) is exactly what we need.\n",
    "    return np.dot(causal_matrix, causal_matrix)\n",
    "\n",
    "def get_Nk_counts_for_element(e_idx, causal_matrix, interval_sizes):\n",
    "    \"\"\"\n",
    "    Calculates N_k(e) for k=0, 1, 2, 3 for a single element e.\n",
    "\n",
    "    Args:\n",
    "        e_idx (int): The index of the element 'e'.\n",
    "        causal_matrix (np.ndarray): The full causal matrix.\n",
    "        interval_sizes (np.ndarray): The matrix of interval sizes.\n",
    "\n",
    "    Returns:\n",
    "        dict: A dictionary with counts for N0, N1, N2, N3.\n",
    "    \"\"\"\n",
    "    # Find all elements e' in the past of e\n",
    "    past_indices = np.where(causal_matrix[e_idx, :] == 1)[0]\n",
    "\n",
    "    # Get the sizes of the intervals |I(e, e')| for all e' in the past\n",
    "    sizes_for_e = interval_sizes[e_idx, past_indices]\n",
    "\n",
    "    # Count how many of these intervals have size 0, 1, 2, or 3\n",
    "    counts = {\n",
    "        0: np.sum(sizes_for_e == 0),\n",
    "        1: np.sum(sizes_for_e == 1),\n",
    "        2: np.sum(sizes_for_e == 2),\n",
    "        3: np.sum(sizes_for_e == 3)\n",
    "    }\n",
    "\n",
    "    return counts\n",
    "\n",
    "# Pre-calculate the interval sizes for the whole causet\n",
    "interval_sizes_matrix = get_interval_sizes(C)\n",
    "\n",
    "# Example: Get the neighbor counts for element 0\n",
    "e_index_example = N - 6 # Pick the element with the largest time coord\n",
    "Nk_example = get_Nk_counts_for_element(e_index_example, C, interval_sizes_matrix)\n",
    "\n",
    "print(f\"For element {e_index_example} (one of the latest points):\")\n",
    "print(f\"  Number of nearest neighbors (links), N_0: {Nk_example[0]}\")\n",
    "print(f\"  Number of next-nearest neighbors, N_1: {Nk_example[1]}\")\n",
    "print(f\"  Number of N_2 neighbors: {Nk_example[2]}\")\n",
    "print(f\"  Number of N_3 neighbors: {Nk_example[3]}\")\n"
   ]
  },
  {
   "cell_type": "markdown",
   "id": "61ea4234b382d979",
   "metadata": {},
   "source": [
    "### Step 2: Calculating the Ricci Scalar `R`\n",
    "\n",
    "The paper presents the formula for the dimensionless discrete Ricci scalar `R` at an element `e` in 4-dimensions. It is a specific weighted sum of the number of its neighbors.\n",
    "\n",
    "#### Mathematical Foundation\n",
    "\n",
    "The formula (Eq. 33) is:\n",
    "\n",
    "$$ R(e) = \\frac{4}{\\sqrt{6}} \\left[ 1 - N_0(e) + 9N_1(e) - 16N_2(e) + 8N_3(e) \\right] $$\n",
    "\n",
    "*   **`R(e)`**: The Ricci scalar curvature at the specific dot `e`.\n",
    "*   **`N_k(e)`**: The number of neighbors of `e` at \"distance\" `k`, which we just calculated.\n",
    "*   **The Coefficients `(1, -1, 9, -16, 8)`**: These are not arbitrary! They are \"magic numbers\" derived from a detailed calculation in the continuum limit. They are precisely the weights needed for the non-local contributions to cancel out, leaving behind only the local curvature. The alternating signs are a hallmark of this cancellation.\n",
    "*   **$\\frac{4}{\\sqrt{6}}$**: This is a normalization constant for 4-dimensions.\n"
   ]
  },
  {
   "cell_type": "code",
   "execution_count": 5,
   "id": "ccf2d1e03f5ea13f",
   "metadata": {},
   "outputs": [
    {
     "name": "stdout",
     "output_type": "stream",
     "text": [
      "The discrete Ricci scalar curvature at element 49 is: R(e) = 1.6330\n"
     ]
    }
   ],
   "source": [
    "def calculate_ricci_scalar_at_element(Nk_counts):\n",
    "    \"\"\"\n",
    "    Calculates the discrete Ricci scalar for a single element e using its\n",
    "    neighbor counts. (Formula for d=4)\n",
    "\n",
    "    Args:\n",
    "        Nk_counts (dict): A dictionary with keys 0,1,2,3 for N_k(e).\n",
    "\n",
    "    Returns:\n",
    "        float: The value of R(e).\n",
    "    \"\"\"\n",
    "    # Magic coefficients from Eq. 33\n",
    "    term = (1\n",
    "            - Nk_counts[0]\n",
    "            + 9 * Nk_counts[1]\n",
    "            - 16 * Nk_counts[2]\n",
    "            + 8 * Nk_counts[3])\n",
    "\n",
    "    prefactor = 4 / np.sqrt(6)\n",
    "\n",
    "    return prefactor * term\n",
    "\n",
    "# Calculate R for our example element\n",
    "R_example = calculate_ricci_scalar_at_element(Nk_example)\n",
    "print(f\"The discrete Ricci scalar curvature at element {e_index_example} is: R(e) = {R_example:.4f}\")\n"
   ]
  },
  {
   "cell_type": "markdown",
   "id": "8e998b5174ef164a",
   "metadata": {},
   "source": [
    "### Step 3: The Benincasa-Dowker (BD) Action\n",
    "\n",
    "Now that we can calculate the curvature `R` at any single point, we can find the total action for the entire universe. In General Relativity, this is the Einstein-Hilbert action. In Causal Set Theory, it's the **Benincasa-Dowker (BD) Action**.\n",
    "\n",
    "#### Mathematical Foundation\n",
    "\n",
    "The BD Action $S^{(4)}(C)$ for a 4D causal set `C` is simply the sum of the Ricci scalar over all elements in the set.\n",
    "\n",
    "$$ S^{(4)}(C) = \\sum_{e \\in C} R(e) $$\n",
    "\n",
    "This incredibly simple and elegant formula is the discrete, background-independent action for pure gravity. In the continuum-inspired dynamics of Chapter 6, this is the quantity that goes into the path integral ($e^{iS(c)}$) to determine the \"quantum weight\" of a given causal set universe.\n"
   ]
  },
  {
   "cell_type": "code",
   "execution_count": null,
   "id": "be6bde3905994765",
   "metadata": {},
   "outputs": [],
   "source": [
    "def calculate_BD_action(causal_matrix):\n",
    "    \"\"\"\n",
    "    Calculates the total Benincasa-Dowker action for a causal set.\n",
    "\n",
    "    Args:\n",
    "        causal_matrix (np.ndarray): The causal matrix for the set.\n",
    "\n",
    "    Returns:\n",
    "        float: The total action S(C).\n",
    "    \"\"\"\n",
    "    total_action = 0\n",
    "    num_elements = causal_matrix.shape[0]\n",
    "\n",
    "    # Pre-calculate interval sizes to be efficient\n",
    "    interval_sizes = get_interval_sizes(causal_matrix)\n",
    "\n",
    "    # Loop over every element in the causal set\n",
    "    for e_idx in range(num_elements):\n",
    "        # Get neighbor counts for this element\n",
    "        Nk_counts = get_Nk_counts_for_element(e_idx, causal_matrix, interval_sizes)\n",
    "\n",
    "        # Calculate R(e) for this element\n",
    "        R_e = calculate_ricci_scalar_at_element(Nk_counts)\n",
    "\n",
    "        # Add it to the total sum\n",
    "        total_action += R_e\n",
    "\n",
    "    return total_action\n",
    "\n",
    "# Calculate the total action for our toy universe\n",
    "total_S_BD = calculate_BD_action(C)\n",
    "\n",
    "print(f\"The total Benincasa-Dowker Action for our {N}-element causal set is: S(C) = {total_S_BD:.4f}\")\n"
   ]
  },
  {
   "cell_type": "markdown",
   "id": "7f6281d2dfbf7eb0",
   "metadata": {},
   "source": [
    "### The \"Smeared\" Action (A More Robust Version)\n",
    "\n",
    "The paper notes that the formula for `R(e)` is very sensitive to Poisson fluctuations (the exact random placement of the dots). A more stable version uses a \"smearing\" function that averages over a range of interval sizes, controlled by a non-locality parameter `ε`.\n",
    "#\n",
    "#### Mathematical Foundation\n",
    "\n",
    "Instead of a simple weighted sum of the $N_k$, the action is built from a more complicated operator $B_\\epsilon$. The action takes the form:\n",
    "\n",
    "$$ S_\\epsilon(C, \\epsilon) = \\sum_{e \\in C} \\left( -\\phi(e) + \\epsilon \\sum_{e' \\prec e} f(n(e', e), \\epsilon) \\phi(e') \\right) $$\n",
    "\n",
    "*   **`ε`**: A new fundamental parameter of the theory, the \"non-locality scale.\"\n",
    "*   **`n(e', e)`**: The number of elements in the interval $I(e', e)$.\n",
    "*   **`f(n, ε)`**: A specific \"smearing function\" (shown in Fig. 15) that replaces the simple integer coefficients. It smoothly weights the contributions from past points based on the interval size `n`.\n",
    "\n",
    "This version is much more stable and is used in the MCMC simulations discussed in Chapter 6. While we won't implement the full smearing function here, it's important to know that this more robust version exists.\n"
   ]
  },
  {
   "cell_type": "markdown",
   "id": "d99d020c248bf71b",
   "metadata": {},
   "source": [
    "### Conclusion\n",
    "\n",
    "This notebook demonstrates the remarkable achievement of Section 4.5:\n",
    "\n",
    "1.  We defined a way to count **\"neighbors\"** ($N_k$) in a causal set based purely on the causal order.\n",
    "2.  Using a specific weighted sum of these neighbor counts, we defined a quantity `R(e)` at each dot that behaves exactly like the **Ricci scalar curvature** from General Relativity.\n",
    "3.  Summing `R(e)` over all the dots gives us the **Benincasa-Dowker Action `S(C)`**, a complete, fundamental action for pure gravity on a discrete spacetime.\n",
    "\n",
    "This provides the final, crucial piece of the puzzle. We have successfully reconstructed the mathematical heart of Einstein's theory of gravity from the simple, discrete foundation of \"Order + Number.\""
   ]
  },
  {
   "cell_type": "code",
   "execution_count": null,
   "id": "70aebfc0-d710-4ad4-b7a1-c86b59bc266a",
   "metadata": {},
   "outputs": [],
   "source": []
  }
 ],
 "metadata": {
  "kernelspec": {
   "display_name": "Python 3 (ipykernel)",
   "language": "python",
   "name": "python3"
  },
  "language_info": {
   "codemirror_mode": {
    "name": "ipython",
    "version": 3
   },
   "file_extension": ".py",
   "mimetype": "text/x-python",
   "name": "python",
   "nbconvert_exporter": "python",
   "pygments_lexer": "ipython3",
   "version": "3.12.9"
  }
 },
 "nbformat": 4,
 "nbformat_minor": 5
}
